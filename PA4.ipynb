{
 "cells": [
  {
   "cell_type": "markdown",
   "id": "26d4cbfc",
   "metadata": {},
   "source": [
    "###  PA4 Luke Jennings Ver 1.0 CS 150-02"
   ]
  },
  {
   "cell_type": "markdown",
   "id": "288f5221",
   "metadata": {},
   "source": [
    "Apend adds a single new element to the end of a tuple or list"
   ]
  },
  {
   "cell_type": "code",
   "execution_count": 4,
   "id": "e03e80f1",
   "metadata": {},
   "outputs": [
    {
     "name": "stdout",
     "output_type": "stream",
     "text": [
      "[50, 40, 20, 25, 66]\n"
     ]
    }
   ],
   "source": [
    "number=[50,40,20,25]\n",
    "number.append(66)\n",
    "print(number)"
   ]
  },
  {
   "cell_type": "markdown",
   "id": "e1e3495c",
   "metadata": {},
   "source": [
    " Extends allows us to add multiple new elements to the end of a tuple or list"
   ]
  },
  {
   "cell_type": "code",
   "execution_count": 5,
   "id": "401cf395",
   "metadata": {},
   "outputs": [
    {
     "name": "stdout",
     "output_type": "stream",
     "text": [
      "This is the old [50, 40, 20, 25]\n",
      "This is the new [50, 40, 20, 25, 30, 20, 'This is a string', 50]\n"
     ]
    }
   ],
   "source": [
    "number=[50,40,20,25]\n",
    "numbers=[30,20,\"This is a string\",50]\n",
    "print(\"This is the old\", number)\n",
    "number.extend(numbers)\n",
    "print(\"This is the new\", number)"
   ]
  },
  {
   "cell_type": "markdown",
   "id": "3ef6fe92",
   "metadata": {},
   "source": [
    "Insert allows us to put a new element anywhere inside a tuple or list"
   ]
  },
  {
   "cell_type": "code",
   "execution_count": 7,
   "id": "27242e98",
   "metadata": {},
   "outputs": [
    {
     "name": "stdout",
     "output_type": "stream",
     "text": [
      "[50, 77, 40, 20, 25]\n"
     ]
    }
   ],
   "source": [
    "number=[50,40,20,25]\n",
    "number.insert(1,77)\n",
    "print(number)"
   ]
  },
  {
   "cell_type": "markdown",
   "id": "87c60169",
   "metadata": {},
   "source": [
    "Remove deletes an elements from a tuple or list"
   ]
  },
  {
   "cell_type": "code",
   "execution_count": 9,
   "id": "c36c4379",
   "metadata": {},
   "outputs": [
    {
     "name": "stdout",
     "output_type": "stream",
     "text": [
      "[50, 20]\n"
     ]
    }
   ],
   "source": [
    "number=[50,40,20,25]\n",
    "number.remove(40)\n",
    "number.remove(25)\n",
    "print(number)"
   ]
  },
  {
   "cell_type": "markdown",
   "id": "285a3593",
   "metadata": {},
   "source": [
    "Count checks the amount of times an element appears in a tuple or list"
   ]
  },
  {
   "cell_type": "code",
   "execution_count": 13,
   "id": "ae173991",
   "metadata": {},
   "outputs": [
    {
     "name": "stdout",
     "output_type": "stream",
     "text": [
      "25 has repeated 2 times\n",
      "50 has repeated 1 times\n"
     ]
    }
   ],
   "source": [
    "number=[50,40,20,25,25]\n",
    "## Count\n",
    "print(\"25 has repeated\",number.count(25), \"times\")\n",
    "print(\"50 has repeated\",number.count(50), \"times\")"
   ]
  },
  {
   "cell_type": "markdown",
   "id": "15e00760",
   "metadata": {},
   "source": [
    "Index checks what position an element is in a tuple or list"
   ]
  },
  {
   "cell_type": "code",
   "execution_count": 15,
   "id": "54f5cc01",
   "metadata": {},
   "outputs": [
    {
     "name": "stdout",
     "output_type": "stream",
     "text": [
      "20 is in position 2\n"
     ]
    }
   ],
   "source": [
    "number=[50,40,20,25]\n",
    "## Index\n",
    "print(\"20 is in position\", number.index(20))"
   ]
  },
  {
   "cell_type": "markdown",
   "id": "ef9a7ab8",
   "metadata": {},
   "source": [
    "Pop removes an element from a specified index"
   ]
  },
  {
   "cell_type": "code",
   "execution_count": 17,
   "id": "628a4e8b",
   "metadata": {},
   "outputs": [
    {
     "name": "stdout",
     "output_type": "stream",
     "text": [
      "[50, 40, 20, 25]\n",
      "[40, 20, 25]\n",
      "[40, 20]\n"
     ]
    }
   ],
   "source": [
    "number=[50,40,20,25]\n",
    "## Pop\n",
    "print(number)\n",
    "number.pop(0)\n",
    "print(number)\n",
    "number.pop(-1)\n",
    "print(number)"
   ]
  },
  {
   "cell_type": "markdown",
   "id": "2ff3f5a4",
   "metadata": {},
   "source": [
    "Sort permanently sorts elements from a list or tuple"
   ]
  },
  {
   "cell_type": "code",
   "execution_count": 18,
   "id": "8eb9630e",
   "metadata": {},
   "outputs": [
    {
     "name": "stdout",
     "output_type": "stream",
     "text": [
      "[50, 40, 20, 25]\n",
      "[20, 25, 40, 50]\n"
     ]
    }
   ],
   "source": [
    "number=[50,40,20,25]\n",
    "## Sorted\n",
    "print(number)\n",
    "number.sort()\n",
    "print(number)"
   ]
  },
  {
   "cell_type": "markdown",
   "id": "6ef1e90b",
   "metadata": {},
   "source": [
    "Copy allows us to copy a list of elements into another variable"
   ]
  },
  {
   "cell_type": "code",
   "execution_count": 19,
   "id": "f4b34901",
   "metadata": {},
   "outputs": [
    {
     "name": "stdout",
     "output_type": "stream",
     "text": [
      "[50, 40, 20, 25]\n",
      "Copied [50, 40, 20, 25]\n"
     ]
    }
   ],
   "source": [
    "number=[50,40,20,25]\n",
    "## Copy\n",
    "print(number)\n",
    "numbers=number.copy()\n",
    "print('Copied', numbers)"
   ]
  },
  {
   "cell_type": "markdown",
   "id": "8d8f19fd",
   "metadata": {},
   "source": [
    "Clear removes all elements from a list"
   ]
  },
  {
   "cell_type": "code",
   "execution_count": 23,
   "id": "13c690fe",
   "metadata": {},
   "outputs": [
    {
     "name": "stdout",
     "output_type": "stream",
     "text": [
      "[50, 40, 20, 25, 25]\n",
      "[]\n"
     ]
    }
   ],
   "source": [
    "number=[50,40,20,25,25]\n",
    "print(number)\n",
    "number.clear()\n",
    "print(number)"
   ]
  },
  {
   "cell_type": "markdown",
   "id": "9e35f19d",
   "metadata": {},
   "source": [
    "Any checks if an element in a list exists or not"
   ]
  },
  {
   "cell_type": "code",
   "execution_count": 29,
   "id": "62aead85",
   "metadata": {},
   "outputs": [
    {
     "name": "stdout",
     "output_type": "stream",
     "text": [
      "True\n"
     ]
    }
   ],
   "source": [
    "number=[50,40,20,25]\n",
    "print(any(number))\n"
   ]
  },
  {
   "cell_type": "markdown",
   "id": "df526904",
   "metadata": {},
   "source": [
    "Filters elements inside a list to satisfy a function"
   ]
  },
  {
   "cell_type": "code",
   "execution_count": 31,
   "id": "4c0df7fa",
   "metadata": {},
   "outputs": [
    {
     "name": "stdout",
     "output_type": "stream",
     "text": [
      "50\n",
      "40\n"
     ]
    }
   ],
   "source": [
    "number=[50,40,20,25]\n",
    "def filt(x):\n",
    "    if x<30:\n",
    "        return False\n",
    "    else:\n",
    "        return True\n",
    "numbers=filter(filt,number)\n",
    "for x in numbers:\n",
    "    print(x)"
   ]
  },
  {
   "cell_type": "markdown",
   "id": "fb6e3206",
   "metadata": {},
   "source": [
    "List converts a string into a list"
   ]
  },
  {
   "cell_type": "code",
   "execution_count": 33,
   "id": "c6330356",
   "metadata": {},
   "outputs": [
    {
     "name": "stdout",
     "output_type": "stream",
     "text": [
      "['N', 'u', 'm', 'b', 'e', 'r']\n"
     ]
    }
   ],
   "source": [
    "number= 'Number'\n",
    "numbers= list(number)\n",
    "print(numbers)"
   ]
  },
  {
   "cell_type": "markdown",
   "id": "d1b52c7d",
   "metadata": {},
   "source": [
    "Map returns the results of a function to a list"
   ]
  },
  {
   "cell_type": "code",
   "execution_count": 36,
   "id": "f652d1c2",
   "metadata": {},
   "outputs": [
    {
     "name": "stdout",
     "output_type": "stream",
     "text": [
      "[50, 40, 20, 25]\n",
      "[100, 80, 40, 50]\n"
     ]
    }
   ],
   "source": [
    "number=[50,40,20,25]\n",
    "print(number)\n",
    "def addition(x):\n",
    "    return x+x\n",
    "result = map(addition,number)\n",
    "print(list(result))"
   ]
  },
  {
   "cell_type": "code",
   "execution_count": null,
   "id": "f74ec626",
   "metadata": {},
   "outputs": [],
   "source": [
    "Max returns the greatest elemment in a list"
   ]
  },
  {
   "cell_type": "code",
   "execution_count": 50,
   "id": "d8b5566a",
   "metadata": {},
   "outputs": [
    {
     "data": {
      "text/plain": [
       "50"
      ]
     },
     "execution_count": 50,
     "metadata": {},
     "output_type": "execute_result"
    }
   ],
   "source": [
    "number=[50,40,20,25]\n",
    "max(number)"
   ]
  },
  {
   "cell_type": "markdown",
   "id": "df5ff99b",
   "metadata": {},
   "source": [
    "Tuple() creates a tuple"
   ]
  },
  {
   "cell_type": "code",
   "execution_count": 49,
   "id": "4bd1ccc6",
   "metadata": {},
   "outputs": [
    {
     "data": {
      "text/plain": [
       "(50, 40, 20, 25)"
      ]
     },
     "execution_count": 49,
     "metadata": {},
     "output_type": "execute_result"
    }
   ],
   "source": [
    "number=[50,40,20,25]\n",
    "tuple(number)"
   ]
  },
  {
   "cell_type": "markdown",
   "id": "c0fd97a1",
   "metadata": {},
   "source": [
    "Len prints the number of elements in a list"
   ]
  },
  {
   "cell_type": "code",
   "execution_count": 51,
   "id": "26cb0241",
   "metadata": {},
   "outputs": [
    {
     "data": {
      "text/plain": [
       "4"
      ]
     },
     "execution_count": 51,
     "metadata": {},
     "output_type": "execute_result"
    }
   ],
   "source": [
    "number=[50,40,20,25]\n",
    "len(number)"
   ]
  }
 ],
 "metadata": {
  "kernelspec": {
   "display_name": "Python 3",
   "language": "python",
   "name": "python3"
  },
  "language_info": {
   "codemirror_mode": {
    "name": "ipython",
    "version": 3
   },
   "file_extension": ".py",
   "mimetype": "text/x-python",
   "name": "python",
   "nbconvert_exporter": "python",
   "pygments_lexer": "ipython3",
   "version": "3.8.8"
  }
 },
 "nbformat": 4,
 "nbformat_minor": 5
}
